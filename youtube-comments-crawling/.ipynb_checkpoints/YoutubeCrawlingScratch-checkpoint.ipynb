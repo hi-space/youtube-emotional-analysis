{
 "cells": [
  {
   "cell_type": "code",
   "execution_count": null,
   "metadata": {},
   "outputs": [],
   "source": [
    "from bs4 import BeautifulSoup\n",
    "from selenium import webdriver \n",
    "from selenium.webdriver.support.ui import WebDriverWait\n",
    "from selenium.webdriver.support import expected_conditions as EC\n",
    "import pandas as pd\n",
    "import time"
   ]
  },
  {
   "cell_type": "code",
   "execution_count": null,
   "metadata": {},
   "outputs": [],
   "source": [
    "CHROME_DRIVER_PATH=\"D:\\\\00-env\\\\chromedriver.exe\"\n",
    "YOUTUBE_LINKS = {\n",
    "    'oh_my_girl': {\n",
    "        'nonstop' : 'https://www.youtube.com/watch?v=iDjQSdN_ig8',\n",
    "        'the_fifth_season' : 'https://www.youtube.com/watch?v=udGwca1HBM4',\n",
    "        'bungee' : 'https://www.youtube.com/watch?v=QTD_yleCK9Y',\n",
    "    },\n",
    "    'chungha': {\n",
    "        'stay_tonight': 'https://www.youtube.com/watch?v=YPFIh0dfYfw',\n",
    "        'roller_coaster': 'https://www.youtube.com/watch?v=900X9fDFLc4',\n",
    "        'snapping' : 'https://www.youtube.com/watch?v=deV_DmHKwjc'\n",
    "    }\n",
    "}\n",
    "\n",
    "all_comments = dict()\n"
   ]
  },
  {
   "cell_type": "code",
   "execution_count": null,
   "metadata": {},
   "outputs": [],
   "source": [
    "def start_webpage(driver,link):\n",
    "    driver.get(link)\n",
    "    time.sleep(3)\n",
    "    driver.execute_script(\"window.scrollTo(1, 500);\")\n",
    "    \n",
    "def scrollDownToEnd(driver, pause_time=0.5):\n",
    "    while True:\n",
    "        last_height = driver.execute_script(\"return document.documentElement.scrollHeight\")\n",
    "        driver.execute_script(\"window.scrollTo(1, document.documentElement.scrollHeight);\")\n",
    "\n",
    "        time.sleep(pause_time)\n",
    "\n",
    "        new_height = driver.execute_script(\"return document.documentElement.scrollHeight\")\n",
    "        if new_height == last_height:\n",
    "            driver.execute_script(\"window.scrollTo(1, document.documentElement.scrollHeight);\")\n",
    "            time.sleep(pause_time)\n",
    "\n",
    "            new_height = driver.execute_script(\"return document.documentElement.scrollHeight\")\n",
    "            if new_height == last_height:\n",
    "                break\n",
    "            else:\n",
    "                last_height = new_height\n",
    "                continue\n",
    "\n",
    "def print_dict(origin_key, d):\n",
    "    for k, v in d.items():\n",
    "        if isinstance(v, dict):\n",
    "            print_dict(k, v)\n",
    "        else:\n",
    "            print(origin_key, k, v)\n",
    "\n",
    "def get_all_comments(driver):\n",
    "    comment_div= driver.find_element_by_xpath('//*[@id=\"contents\"]')\n",
    "    contents = comment_div.find_elements_by_xpath('//*[@id=\"content-text\"]')\n",
    "    authors = comment_div.find_elements_by_xpath('//*[@id=\"author-text\"]')\n",
    "\n",
    "    all_comments = list()\n",
    "    \n",
    "    print(\"comments: \", len(contents))\n",
    "    \n",
    "    for idx, content in enumerate(contents):\n",
    "        comment = dict()\n",
    "        comment[authors[idx].text] = content.text\n",
    "        all_comments.append(comment)\n",
    "\n",
    "    return all_comments\n",
    "\n",
    "def automatic_crawlling(driver, singer, title, link):\n",
    "    print(singer, title, link)\n",
    "    start_webpage(driver, link)\n",
    "    \n",
    "    time.sleep(3)\n",
    "    \n",
    "    comments = get_all_comments(driver)\n",
    "    \n",
    "    if singer not in all_comments.keys():\n",
    "        all_comments[singer] = dict()\n",
    "        \n",
    "    all_comments[singer][title] = comments\n",
    "\n",
    "def sequential_start(driver, d, origin_key=None):\n",
    "    for k, v in d.items():\n",
    "        if isinstance(v, dict):\n",
    "            sequential_start(driver, v, k)\n",
    "        else:\n",
    "            automatic_crawlling(driver, origin_key, k, v)"
   ]
  },
  {
   "cell_type": "code",
   "execution_count": null,
   "metadata": {},
   "outputs": [],
   "source": [
    "driver = webdriver.Chrome(CHROME_DRIVER_PATH)\n",
    "sequential_start(YOUTUBE_LINKS)"
   ]
  },
  {
   "cell_type": "code",
   "execution_count": null,
   "metadata": {},
   "outputs": [],
   "source": []
  }
 ],
 "metadata": {
  "kernelspec": {
   "display_name": "dl",
   "language": "python",
   "name": "dl"
  },
  "language_info": {
   "codemirror_mode": {
    "name": "ipython",
    "version": 3
   },
   "file_extension": ".py",
   "mimetype": "text/x-python",
   "name": "python",
   "nbconvert_exporter": "python",
   "pygments_lexer": "ipython3",
   "version": "3.6.9"
  }
 },
 "nbformat": 4,
 "nbformat_minor": 2
}
