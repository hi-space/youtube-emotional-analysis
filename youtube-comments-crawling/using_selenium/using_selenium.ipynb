{
 "cells": [
  {
   "cell_type": "code",
   "execution_count": 1,
   "metadata": {},
   "outputs": [],
   "source": [
    "from bs4 import BeautifulSoup\n",
    "from selenium import webdriver \n",
    "from selenium.webdriver.support.ui import WebDriverWait\n",
    "from selenium.webdriver.support import expected_conditions as EC\n",
    "import pandas as pd\n",
    "import time\n",
    "import csv"
   ]
  },
  {
   "cell_type": "code",
   "execution_count": 2,
   "metadata": {},
   "outputs": [],
   "source": [
    "CHROME_DRIVER_PATH=\"D:\\\\00-env\\\\chromedriver.exe\"\n",
    "YOUTUBE_LINKS = {\n",
    "#     'oh_my_girl': {\n",
    "#         'nonstop' : 'https://www.youtube.com/watch?v=iDjQSdN_ig8',\n",
    "#         'the_fifth_season' : 'https://www.youtube.com/watch?v=udGwca1HBM4',\n",
    "#         'bungee' : 'https://www.youtube.com/watch?v=QTD_yleCK9Y',\n",
    "#     },\n",
    "#     'chungha': {\n",
    "#         'stay_tonight': 'https://www.youtube.com/watch?v=YPFIh0dfYfw',\n",
    "#         'roller_coaster': 'https://www.youtube.com/watch?v=900X9fDFLc4',\n",
    "#         'snapping' : 'https://www.youtube.com/watch?v=deV_DmHKwjc'\n",
    "#     },\n",
    "#     'mamamoo': {\n",
    "#         'spit_it_out': 'https://www.youtube.com/watch?v=bD06B-5SsSE',\n",
    "#         'egotistic': 'https://www.youtube.com/watch?v=pHtxTSiPh5I',\n",
    "#         'starry_night' : 'https://www.youtube.com/watch?v=0FB2EoKTK_Q'\n",
    "#     },\n",
    "#     'g_idle': {\n",
    "#         'oh_my_god': 'https://www.youtube.com/watch?v=om3n2ni8luE',\n",
    "#         'latata': 'https://www.youtube.com/watch?v=9mQk7Evt6Vs',\n",
    "#         'hann' : 'https://www.youtube.com/watch?v=OKNXn2qCEws'\n",
    "#     },\n",
    "#     'itzy': {\n",
    "#         'waanbe': 'https://www.youtube.com/watch?v=fE2h3lGlOsk',\n",
    "#         'icy': 'https://www.youtube.com/watch?v=zndvqTc4P9I',\n",
    "#         'dalla_dalla' : 'https://www.youtube.com/watch?v=pNfTK39k55U'\n",
    "#     },\n",
    "}\n",
    "\n",
    "STORE_FILE_PATH= \"D:\\\\02-yscec\\\\2020-1\\\\DataVisualization\\\\final-term\\\\data\\\\\"\n",
    "\n",
    "all_comments = dict()\n"
   ]
  },
  {
   "cell_type": "code",
   "execution_count": 4,
   "metadata": {},
   "outputs": [],
   "source": [
    "def start_webpage(driver,link):\n",
    "    driver.get(link)\n",
    "    time.sleep(3)\n",
    "    driver.execute_script(\"window.scrollTo(1, 500);\")\n",
    "    \n",
    "def scrollDownToEnd(driver, pause_time=2):\n",
    "    while True:\n",
    "        last_height = driver.execute_script(\"return document.documentElement.scrollHeight\")\n",
    "        driver.execute_script(\"window.scrollTo(1, document.documentElement.scrollHeight);\")\n",
    "\n",
    "        time.sleep(pause_time)\n",
    "\n",
    "        new_height = driver.execute_script(\"return document.documentElement.scrollHeight\")\n",
    "        if new_height == last_height:\n",
    "            driver.execute_script(\"window.scrollTo(1, document.documentElement.scrollHeight);\")\n",
    "            time.sleep(pause_time)\n",
    "\n",
    "            new_height = driver.execute_script(\"return document.documentElement.scrollHeight\")\n",
    "            if new_height == last_height:\n",
    "                break\n",
    "            else:\n",
    "                continue\n",
    "\n",
    "def print_dict(origin_key, d):\n",
    "    for k, v in d.items():\n",
    "        if isinstance(v, dict):\n",
    "            print_dict(k, v)\n",
    "        else:\n",
    "            print(origin_key, k, v)\n",
    "\n",
    "def get_all_comments(driver):\n",
    "    comment_div= driver.find_element_by_xpath('//*[@id=\"contents\"]')\n",
    "    contents = comment_div.find_elements_by_xpath('//*[@id=\"content-text\"]')\n",
    "    authors = comment_div.find_elements_by_xpath('//*[@id=\"author-text\"]')\n",
    "    \n",
    "    df = pd.DataFrame(columns=['author', 'contents'])\n",
    "    all_comments = list()\n",
    "    \n",
    "    print(\"comments: \", len(contents))\n",
    "    \n",
    "    for idx, content in enumerate(contents):\n",
    "        comment = dict()\n",
    "        comment[authors[idx].text] = content.text\n",
    "        all_comments.append(comment)\n",
    "        \n",
    "        df = df.append(pd.Series([authors[idx].text, content.text], index=df.columns), ignore_index=True)\n",
    "\n",
    "    return df, all_comments\n",
    "\n",
    "def automatic_crawlling(driver, singer, title, link):\n",
    "    print(singer, title, link)\n",
    "    start_webpage(driver, link)\n",
    "    \n",
    "    scrollDownToEnd(driver)\n",
    "    \n",
    "    df, comments = get_all_comments(driver)\n",
    "    df.to_csv(STORE_FILE_PATH + singer + '_' + title + '.csv', mode='w', encoding='utf-8-sig')\n",
    "    \n",
    "    if singer not in all_comments.keys():\n",
    "        all_comments[singer] = dict()\n",
    "        \n",
    "    all_comments[singer][title] = comments\n",
    "\n",
    "def sequential_start(driver, d, origin_key=None):\n",
    "    for k, v in d.items():\n",
    "        if isinstance(v, dict):\n",
    "            sequential_start(driver, v, k)\n",
    "        else:\n",
    "            automatic_crawlling(driver, origin_key, k, v)"
   ]
  },
  {
   "cell_type": "code",
   "execution_count": null,
   "metadata": {},
   "outputs": [],
   "source": [
    "driver = webdriver.Chrome(CHROME_DRIVER_PATH)\n",
    "sequential_start(driver, YOUTUBE_LINKS)"
   ]
  },
  {
   "cell_type": "markdown",
   "metadata": {},
   "source": [
    "# Test"
   ]
  },
  {
   "cell_type": "code",
   "execution_count": null,
   "metadata": {},
   "outputs": [],
   "source": [
    "singer = \"oh_my_girl\"\n",
    "title = \"nonstop\"\n",
    "driver = webdriver.Chrome(CHROME_DRIVER_PATH)\n",
    "automatic_crawlling(webdriver.Chrome(CHROME_DRIVER_PATH), singer, title, YOUTUBE_LINKS[singer][title])"
   ]
  },
  {
   "cell_type": "code",
   "execution_count": null,
   "metadata": {},
   "outputs": [
    {
     "name": "stdout",
     "output_type": "stream",
     "text": [
      "kangdaniel 2u https://www.youtube.com/watch?v=GmqfRBaJm6I\n",
      "comments:  1498\n"
     ]
    }
   ],
   "source": [
    "driver = webdriver.Chrome(CHROME_DRIVER_PATH)\n",
    "automatic_crawlling(driver, 'kangdaniel', '2u', 'https://www.youtube.com/watch?v=GmqfRBaJm6I')"
   ]
  },
  {
   "cell_type": "code",
   "execution_count": null,
   "metadata": {},
   "outputs": [],
   "source": []
  }
 ],
 "metadata": {
  "kernelspec": {
   "display_name": "dl",
   "language": "python",
   "name": "dl"
  },
  "language_info": {
   "codemirror_mode": {
    "name": "ipython",
    "version": 3
   },
   "file_extension": ".py",
   "mimetype": "text/x-python",
   "name": "python",
   "nbconvert_exporter": "python",
   "pygments_lexer": "ipython3",
   "version": "3.6.9"
  }
 },
 "nbformat": 4,
 "nbformat_minor": 2
}
