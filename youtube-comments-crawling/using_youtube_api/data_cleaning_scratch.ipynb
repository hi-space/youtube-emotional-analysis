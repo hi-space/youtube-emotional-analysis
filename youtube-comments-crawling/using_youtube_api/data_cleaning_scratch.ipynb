{
 "cells": [
  {
   "cell_type": "code",
   "execution_count": 14,
   "metadata": {},
   "outputs": [],
   "source": [
    "from crawlling import *\n",
    "from utils import * \n",
    "import pandas as pd\n",
    "from text_cleaning import *"
   ]
  },
  {
   "cell_type": "code",
   "execution_count": 15,
   "metadata": {},
   "outputs": [],
   "source": [
    "STORE_FILE_PATH= 'D:\\\\02-yscec\\\\2020-1\\\\DataVisualization\\\\final-term\\\\source_data\\\\show\\\\'\n",
    "PREPROCESSING_PATH='D:\\\\02-yscec\\\\2020-1\\\\DataVisualization\\\\final-term\\\\preprocess_data\\\\'"
   ]
  },
  {
   "cell_type": "code",
   "execution_count": 16,
   "metadata": {},
   "outputs": [],
   "source": [
    "file_list = file_list_in_directory(STORE_FILE_PATH)"
   ]
  },
  {
   "cell_type": "code",
   "execution_count": 17,
   "metadata": {},
   "outputs": [],
   "source": [
    "file = STORE_FILE_PATH + file_list[0]"
   ]
  },
  {
   "cell_type": "code",
   "execution_count": 18,
   "metadata": {},
   "outputs": [
    {
     "data": {
      "text/plain": [
       "'D:\\\\02-yscec\\\\2020-1\\\\DataVisualization\\\\final-term\\\\source_data\\\\show\\\\ariana_grande-7rings.csv'"
      ]
     },
     "execution_count": 18,
     "metadata": {},
     "output_type": "execute_result"
    }
   ],
   "source": [
    "file"
   ]
  },
  {
   "cell_type": "code",
   "execution_count": 19,
   "metadata": {
    "scrolled": true
   },
   "outputs": [
    {
     "data": {
      "text/html": [
       "<div>\n",
       "<style scoped>\n",
       "    .dataframe tbody tr th:only-of-type {\n",
       "        vertical-align: middle;\n",
       "    }\n",
       "\n",
       "    .dataframe tbody tr th {\n",
       "        vertical-align: top;\n",
       "    }\n",
       "\n",
       "    .dataframe thead th {\n",
       "        text-align: right;\n",
       "    }\n",
       "</style>\n",
       "<table border=\"1\" class=\"dataframe\">\n",
       "  <thead>\n",
       "    <tr style=\"text-align: right;\">\n",
       "      <th></th>\n",
       "      <th>author</th>\n",
       "      <th>contents</th>\n",
       "      <th>likeCount</th>\n",
       "      <th>date</th>\n",
       "      <th>hangul</th>\n",
       "    </tr>\n",
       "  </thead>\n",
       "  <tbody>\n",
       "    <tr>\n",
       "      <th>0</th>\n",
       "      <td>Ronita K.</td>\n",
       "      <td>wtf alr a year it felt way less than a year ti...</td>\n",
       "      <td>0</td>\n",
       "      <td>2020-05-06T17:56:40.000Z</td>\n",
       "      <td>False</td>\n",
       "    </tr>\n",
       "    <tr>\n",
       "      <th>1</th>\n",
       "      <td>KITTY EMCIA !</td>\n",
       "      <td>i love it</td>\n",
       "      <td>0</td>\n",
       "      <td>2020-05-06T17:50:26.000Z</td>\n",
       "      <td>False</td>\n",
       "    </tr>\n",
       "    <tr>\n",
       "      <th>2</th>\n",
       "      <td>Paolosannicandro</td>\n",
       "      <td>#lovearianagrande</td>\n",
       "      <td>0</td>\n",
       "      <td>2020-05-06T17:47:34.000Z</td>\n",
       "      <td>False</td>\n",
       "    </tr>\n",
       "    <tr>\n",
       "      <th>3</th>\n",
       "      <td>NOOBS# world</td>\n",
       "      <td>I see it \\nI like it \\nI want it\\nI stole it\\n...</td>\n",
       "      <td>2</td>\n",
       "      <td>2020-05-06T17:45:30.000Z</td>\n",
       "      <td>False</td>\n",
       "    </tr>\n",
       "    <tr>\n",
       "      <th>4</th>\n",
       "      <td>Maria Chiquinquirá Ferrer Quintero</td>\n",
       "      <td>I think I'm the puppy in the whole song XD</td>\n",
       "      <td>0</td>\n",
       "      <td>2020-05-06T17:44:41.000Z</td>\n",
       "      <td>False</td>\n",
       "    </tr>\n",
       "    <tr>\n",
       "      <th>...</th>\n",
       "      <td>...</td>\n",
       "      <td>...</td>\n",
       "      <td>...</td>\n",
       "      <td>...</td>\n",
       "      <td>...</td>\n",
       "    </tr>\n",
       "    <tr>\n",
       "      <th>20095</th>\n",
       "      <td>Manvel Levonyan</td>\n",
       "      <td>Me listening to this song wearing headphones w...</td>\n",
       "      <td>0</td>\n",
       "      <td>2020-01-30T11:09:34Z</td>\n",
       "      <td>False</td>\n",
       "    </tr>\n",
       "    <tr>\n",
       "      <th>20096</th>\n",
       "      <td>Isabella Novoa</td>\n",
       "      <td>☺😁😁😁</td>\n",
       "      <td>1</td>\n",
       "      <td>2020-01-30T11:03:40Z</td>\n",
       "      <td>False</td>\n",
       "    </tr>\n",
       "    <tr>\n",
       "      <th>20097</th>\n",
       "      <td>Mami Ralte</td>\n",
       "      <td>👍👍👍👍👍👍👍👍👍👍👍👍👍👍👍👍👍👍👍👍👍👍👍👍👍👍👍👍👍👍nonoi ka nia miz...</td>\n",
       "      <td>1</td>\n",
       "      <td>2020-01-30T11:03:31Z</td>\n",
       "      <td>False</td>\n",
       "    </tr>\n",
       "    <tr>\n",
       "      <th>20098</th>\n",
       "      <td>O_O -_-</td>\n",
       "      <td>2020？</td>\n",
       "      <td>1</td>\n",
       "      <td>2020-01-30T11:01:56Z</td>\n",
       "      <td>False</td>\n",
       "    </tr>\n",
       "    <tr>\n",
       "      <th>20099</th>\n",
       "      <td>Alicja Ala</td>\n",
       "      <td>Love you Ariana 😍😍😍🤩🤩🤩🤩🤑🤑</td>\n",
       "      <td>1</td>\n",
       "      <td>2020-01-30T11:00:02Z</td>\n",
       "      <td>False</td>\n",
       "    </tr>\n",
       "  </tbody>\n",
       "</table>\n",
       "<p>20100 rows × 5 columns</p>\n",
       "</div>"
      ],
      "text/plain": [
       "                                   author  \\\n",
       "0                               Ronita K.   \n",
       "1                           KITTY EMCIA !   \n",
       "2                        Paolosannicandro   \n",
       "3                            NOOBS# world   \n",
       "4      Maria Chiquinquirá Ferrer Quintero   \n",
       "...                                   ...   \n",
       "20095                     Manvel Levonyan   \n",
       "20096                      Isabella Novoa   \n",
       "20097                          Mami Ralte   \n",
       "20098                             O_O -_-   \n",
       "20099                          Alicja Ala   \n",
       "\n",
       "                                                contents  likeCount  \\\n",
       "0      wtf alr a year it felt way less than a year ti...          0   \n",
       "1                                              i love it          0   \n",
       "2                                      #lovearianagrande          0   \n",
       "3      I see it \\nI like it \\nI want it\\nI stole it\\n...          2   \n",
       "4             I think I'm the puppy in the whole song XD          0   \n",
       "...                                                  ...        ...   \n",
       "20095  Me listening to this song wearing headphones w...          0   \n",
       "20096                                               ☺😁😁😁          1   \n",
       "20097  👍👍👍👍👍👍👍👍👍👍👍👍👍👍👍👍👍👍👍👍👍👍👍👍👍👍👍👍👍👍nonoi ka nia miz...          1   \n",
       "20098                                              2020？          1   \n",
       "20099                          Love you Ariana 😍😍😍🤩🤩🤩🤩🤑🤑          1   \n",
       "\n",
       "                           date  hangul  \n",
       "0      2020-05-06T17:56:40.000Z   False  \n",
       "1      2020-05-06T17:50:26.000Z   False  \n",
       "2      2020-05-06T17:47:34.000Z   False  \n",
       "3      2020-05-06T17:45:30.000Z   False  \n",
       "4      2020-05-06T17:44:41.000Z   False  \n",
       "...                         ...     ...  \n",
       "20095      2020-01-30T11:09:34Z   False  \n",
       "20096      2020-01-30T11:03:40Z   False  \n",
       "20097      2020-01-30T11:03:31Z   False  \n",
       "20098      2020-01-30T11:01:56Z   False  \n",
       "20099      2020-01-30T11:00:02Z   False  \n",
       "\n",
       "[20100 rows x 5 columns]"
      ]
     },
     "execution_count": 19,
     "metadata": {},
     "output_type": "execute_result"
    }
   ],
   "source": [
    "df = pd.read_csv(file)\n",
    "# df.insert(len(df.columns), 'language', '')\n",
    "df"
   ]
  },
  {
   "cell_type": "code",
   "execution_count": 20,
   "metadata": {},
   "outputs": [],
   "source": [
    "# refine sentence (remove letters without hangul and english)\n",
    "for idx, row in df.iterrows():\n",
    "    s = refine_sentence(row.contents)\n",
    "    \n",
    "    if len(s.strip()) != 0:\n",
    "        df.at[idx, 'contents'] = s\n",
    "    else:\n",
    "        df.drop(idx, inplace=True)"
   ]
  },
  {
   "cell_type": "code",
   "execution_count": 21,
   "metadata": {},
   "outputs": [
    {
     "data": {
      "text/html": [
       "<div>\n",
       "<style scoped>\n",
       "    .dataframe tbody tr th:only-of-type {\n",
       "        vertical-align: middle;\n",
       "    }\n",
       "\n",
       "    .dataframe tbody tr th {\n",
       "        vertical-align: top;\n",
       "    }\n",
       "\n",
       "    .dataframe thead th {\n",
       "        text-align: right;\n",
       "    }\n",
       "</style>\n",
       "<table border=\"1\" class=\"dataframe\">\n",
       "  <thead>\n",
       "    <tr style=\"text-align: right;\">\n",
       "      <th></th>\n",
       "      <th>author</th>\n",
       "      <th>contents</th>\n",
       "      <th>likeCount</th>\n",
       "      <th>date</th>\n",
       "      <th>hangul</th>\n",
       "    </tr>\n",
       "  </thead>\n",
       "  <tbody>\n",
       "    <tr>\n",
       "      <th>0</th>\n",
       "      <td>Ronita K.</td>\n",
       "      <td>wtf alr a year it felt way less than a year ti...</td>\n",
       "      <td>0</td>\n",
       "      <td>2020-05-06T17:56:40.000Z</td>\n",
       "      <td>False</td>\n",
       "    </tr>\n",
       "    <tr>\n",
       "      <th>1</th>\n",
       "      <td>KITTY EMCIA !</td>\n",
       "      <td>i love it</td>\n",
       "      <td>0</td>\n",
       "      <td>2020-05-06T17:50:26.000Z</td>\n",
       "      <td>False</td>\n",
       "    </tr>\n",
       "    <tr>\n",
       "      <th>2</th>\n",
       "      <td>Paolosannicandro</td>\n",
       "      <td>lovearianagrande</td>\n",
       "      <td>0</td>\n",
       "      <td>2020-05-06T17:47:34.000Z</td>\n",
       "      <td>False</td>\n",
       "    </tr>\n",
       "    <tr>\n",
       "      <th>3</th>\n",
       "      <td>NOOBS# world</td>\n",
       "      <td>I see it I like it I want itI stole itNow Im i...</td>\n",
       "      <td>2</td>\n",
       "      <td>2020-05-06T17:45:30.000Z</td>\n",
       "      <td>False</td>\n",
       "    </tr>\n",
       "    <tr>\n",
       "      <th>4</th>\n",
       "      <td>Maria Chiquinquirá Ferrer Quintero</td>\n",
       "      <td>I think Im the puppy in the whole song XD</td>\n",
       "      <td>0</td>\n",
       "      <td>2020-05-06T17:44:41.000Z</td>\n",
       "      <td>False</td>\n",
       "    </tr>\n",
       "    <tr>\n",
       "      <th>...</th>\n",
       "      <td>...</td>\n",
       "      <td>...</td>\n",
       "      <td>...</td>\n",
       "      <td>...</td>\n",
       "      <td>...</td>\n",
       "    </tr>\n",
       "    <tr>\n",
       "      <th>20094</th>\n",
       "      <td>slytherin blood</td>\n",
       "      <td>You will miss your materialistic shiiit in you...</td>\n",
       "      <td>1</td>\n",
       "      <td>2020-01-30T11:11:15Z</td>\n",
       "      <td>False</td>\n",
       "    </tr>\n",
       "    <tr>\n",
       "      <th>20095</th>\n",
       "      <td>Manvel Levonyan</td>\n",
       "      <td>Me listening to this song wearing headphones w...</td>\n",
       "      <td>0</td>\n",
       "      <td>2020-01-30T11:09:34Z</td>\n",
       "      <td>False</td>\n",
       "    </tr>\n",
       "    <tr>\n",
       "      <th>20097</th>\n",
       "      <td>Mami Ralte</td>\n",
       "      <td>nonoi ka nia mizoram</td>\n",
       "      <td>1</td>\n",
       "      <td>2020-01-30T11:03:31Z</td>\n",
       "      <td>False</td>\n",
       "    </tr>\n",
       "    <tr>\n",
       "      <th>20098</th>\n",
       "      <td>O_O -_-</td>\n",
       "      <td>2020</td>\n",
       "      <td>1</td>\n",
       "      <td>2020-01-30T11:01:56Z</td>\n",
       "      <td>False</td>\n",
       "    </tr>\n",
       "    <tr>\n",
       "      <th>20099</th>\n",
       "      <td>Alicja Ala</td>\n",
       "      <td>Love you Ariana</td>\n",
       "      <td>1</td>\n",
       "      <td>2020-01-30T11:00:02Z</td>\n",
       "      <td>False</td>\n",
       "    </tr>\n",
       "  </tbody>\n",
       "</table>\n",
       "<p>18373 rows × 5 columns</p>\n",
       "</div>"
      ],
      "text/plain": [
       "                                   author  \\\n",
       "0                               Ronita K.   \n",
       "1                           KITTY EMCIA !   \n",
       "2                        Paolosannicandro   \n",
       "3                            NOOBS# world   \n",
       "4      Maria Chiquinquirá Ferrer Quintero   \n",
       "...                                   ...   \n",
       "20094                     slytherin blood   \n",
       "20095                     Manvel Levonyan   \n",
       "20097                          Mami Ralte   \n",
       "20098                             O_O -_-   \n",
       "20099                          Alicja Ala   \n",
       "\n",
       "                                                contents  likeCount  \\\n",
       "0      wtf alr a year it felt way less than a year ti...          0   \n",
       "1                                              i love it          0   \n",
       "2                                       lovearianagrande          0   \n",
       "3      I see it I like it I want itI stole itNow Im i...          2   \n",
       "4              I think Im the puppy in the whole song XD          0   \n",
       "...                                                  ...        ...   \n",
       "20094  You will miss your materialistic shiiit in you...          1   \n",
       "20095  Me listening to this song wearing headphones w...          0   \n",
       "20097                               nonoi ka nia mizoram          1   \n",
       "20098                                               2020          1   \n",
       "20099                                   Love you Ariana           1   \n",
       "\n",
       "                           date  hangul  \n",
       "0      2020-05-06T17:56:40.000Z   False  \n",
       "1      2020-05-06T17:50:26.000Z   False  \n",
       "2      2020-05-06T17:47:34.000Z   False  \n",
       "3      2020-05-06T17:45:30.000Z   False  \n",
       "4      2020-05-06T17:44:41.000Z   False  \n",
       "...                         ...     ...  \n",
       "20094      2020-01-30T11:11:15Z   False  \n",
       "20095      2020-01-30T11:09:34Z   False  \n",
       "20097      2020-01-30T11:03:31Z   False  \n",
       "20098      2020-01-30T11:01:56Z   False  \n",
       "20099      2020-01-30T11:00:02Z   False  \n",
       "\n",
       "[18373 rows x 5 columns]"
      ]
     },
     "execution_count": 21,
     "metadata": {},
     "output_type": "execute_result"
    }
   ],
   "source": [
    "df"
   ]
  },
  {
   "cell_type": "code",
   "execution_count": 22,
   "metadata": {},
   "outputs": [],
   "source": [
    "df.to_csv(PREPROCESSING_PATH + file_list[0], \n",
    "          sep=',',\n",
    "          columns=['author', 'contents', 'likeCount', 'date', 'hangul'],\n",
    "          encoding='utf-8-sig')"
   ]
  },
  {
   "cell_type": "markdown",
   "metadata": {},
   "source": [
    "---"
   ]
  },
  {
   "cell_type": "code",
   "execution_count": 2,
   "metadata": {},
   "outputs": [],
   "source": [
    "import konlpy"
   ]
  },
  {
   "cell_type": "code",
   "execution_count": 7,
   "metadata": {},
   "outputs": [
    {
     "name": "stdout",
     "output_type": "stream",
     "text": [
      "아름다운\n",
      "좋아한다\n"
     ]
    }
   ],
   "source": [
    "text = '아름다운 지민 좋아한다'\n",
    "\n",
    "okt = konlpy.tag.Okt()\n",
    "\n",
    "for word in okt.pos(text): \n",
    "    if word[1] in ['Adjective']: #명사, 동사, 형용사\n",
    "        print(word[0])"
   ]
  },
  {
   "cell_type": "code",
   "execution_count": 8,
   "metadata": {},
   "outputs": [
    {
     "data": {
      "text/plain": [
       "[('아름다운', 'Adjective'), ('지민', 'Noun'), ('좋아한다', 'Adjective')]"
      ]
     },
     "execution_count": 8,
     "metadata": {},
     "output_type": "execute_result"
    }
   ],
   "source": [
    "okt.pos(text)"
   ]
  },
  {
   "cell_type": "code",
   "execution_count": 12,
   "metadata": {},
   "outputs": [
    {
     "name": "stdout",
     "output_type": "stream",
     "text": [
      "평창 5\n",
      "입장권 4\n",
      "겨울 4\n",
      "올림픽 4\n",
      "판매 3\n"
     ]
    }
   ],
   "source": [
    "import collections\n",
    "\n",
    "text = '''\n",
    "평창올림픽 입장권 판매율 93%·누적관중 54만명\n",
    "등록 :2018-02-17 14:15수정 :2018-02-17 14:24\n",
    "페이스북트위터공유스크랩프린트크게 작게\n",
    "조직위, 17일 하루 최다 9만장 팔려\n",
    "빈자리는 운영 인력과 자원봉사자로 채워\n",
    "평창겨울올림픽 여자 아이스하키 단일팀 경기가 관객들로 만원을 이룬 모습. 강릉/연합뉴스\n",
    "평창겨울올림픽 여자 아이스하키 단일팀 경기가 관객들로 만원을 이룬 모습. 강릉/연합뉴스\n",
    "2018 평창겨울올림픽 누적 입장권 판매율이 93%를 기록했다.\n",
    "평창겨울올림픽 조직위원회는 17일 강원도 평창 알펜시아 리조트 내 메인프레스센터에서 열린 국제올림픽위원회(IOC)와의 일일 공동 브리핑에서 “17일 오전 현재 목표치 106만8000장 중 99만1000장이 팔려 입장권 판매율이 92.8%로 올랐다”고 발표했다.\n",
    "조직위는 특히 17일 경기 입장권 9만2000장 중 9만장이 이미 팔려 평창올림픽 개막 후 하루 최다 판매량을 기록했다고 밝혔다.\n",
    "김동훈 기자 cano@hani.co.kr\n",
    "원문보기: \n",
    "http://www.hani.co.kr/arti/society/society_general/832485.html#csidx84422124998e6d599763a4e971add95 \n",
    "'''\n",
    "\n",
    "okt = konlpy.tag.Okt()\n",
    "words = okt.nouns(text)\n",
    "d_frequency = collections.Counter(words)\n",
    "\n",
    "#for word, frequency in d_frequency.items(): #모두\n",
    "for word, frequency in d_frequency.most_common(5): #상위 5개\n",
    "    print(word, frequency)      \n"
   ]
  },
  {
   "cell_type": "code",
   "execution_count": 39,
   "metadata": {},
   "outputs": [],
   "source": [
    "import matplotlib.pyplot as plt\n",
    "from matplotlib import font_manager, rc"
   ]
  },
  {
   "cell_type": "code",
   "execution_count": 40,
   "metadata": {},
   "outputs": [],
   "source": [
    "font_fname = 'C:\\Windows\\\\fonts\\\\gulim.ttc'\n",
    "font_name = font_manager.FontProperties(fname=font_fname).get_name()\n",
    "rc('font', family=font_name)"
   ]
  },
  {
   "cell_type": "code",
   "execution_count": 41,
   "metadata": {},
   "outputs": [
    {
     "data": {
      "image/png": "[encoded data removed]",
      "text/plain": [
       "<Figure size 432x288 with 1 Axes>"
      ]
     },
     "metadata": {
      "needs_background": "light"
     },
     "output_type": "display_data"
    }
   ],
   "source": [
    "from nltk import Text\n",
    "\n",
    "kolaw = Text(words, name=\"kolaw\")\n",
    "kolaw.plot(30)\n",
    "plt.show()"
   ]
  },
  {
   "cell_type": "code",
   "execution_count": 43,
   "metadata": {},
   "outputs": [
    {
     "data": {
      "image/png": "[encoded data removed]",
      "text/plain": [
       "<Figure size 432x288 with 1 Axes>"
      ]
     },
     "metadata": {
      "needs_background": "light"
     },
     "output_type": "display_data"
    }
   ],
   "source": [
    "from wordcloud import WordCloud\n",
    "\n",
    "\n",
    "wc = WordCloud(width = 1000, height = 600, background_color=\"white\", font_path=font_path)\n",
    "plt.imshow(wc.generate_from_frequencies(kolaw.vocab()))\n",
    "plt.axis(\"off\")\n",
    "plt.show()"
   ]
  },
  {
   "cell_type": "code",
   "execution_count": null,
   "metadata": {},
   "outputs": [],
   "source": []
  }
 ],
 "metadata": {
  "kernelspec": {
   "display_name": "dl",
   "language": "python",
   "name": "dl"
  },
  "language_info": {
   "codemirror_mode": {
    "name": "ipython",
    "version": 3
   },
   "file_extension": ".py",
   "mimetype": "text/x-python",
   "name": "python",
   "nbconvert_exporter": "python",
   "pygments_lexer": "ipython3",
   "version": "3.6.9"
  }
 },
 "nbformat": 4,
 "nbformat_minor": 2
}
