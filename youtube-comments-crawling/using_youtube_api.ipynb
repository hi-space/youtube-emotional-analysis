{
 "cells": [
  {
   "cell_type": "code",
   "execution_count": null,
   "metadata": {},
   "outputs": [],
   "source": [
    "# pip install youtube-data-api\n",
    "from youtube_api import YouTubeDataAPI\n",
    "import requests\n",
    "import csv"
   ]
  },
  {
   "cell_type": "code",
   "execution_count": null,
   "metadata": {},
   "outputs": [],
   "source": [
    "KEY=\"\"\n",
    "STORE_FILE_PATH= \"D:\\\\02-yscec\\\\2020-1\\\\DataVisualization\\\\final-term\\\\data\\\\\"\n",
    "VIDEO_IDS = {\n",
    "    'oh_my_girl': {\n",
    "        'nonstop' : 'iDjQSdN_ig8',\n",
    "        'the_fifth_season' : 'udGwca1HBM4',\n",
    "        'bungee' : 'QTD_yleCK9Y',\n",
    "    },\n",
    "    'chungha': {\n",
    "        'stay_tonight': 'YPFIh0dfYfw',\n",
    "        'roller_coaster': '900X9fDFLc4',\n",
    "        'snapping' : 'deV_DmHKwjc'\n",
    "    },\n",
    "    'mamamoo': {\n",
    "        'spit_it_out': 'bD06B-5SsSE',\n",
    "        'egotistic': 'pHtxTSiPh5I',\n",
    "        'starry_night' : '0FB2EoKTK_Q'\n",
    "    },\n",
    "    'g_idle': {\n",
    "        'oh_my_god': 'om3n2ni8luE',\n",
    "        'latata': '9mQk7Evt6Vs',\n",
    "        'hann' : 'OKNXn2qCEws'\n",
    "    },\n",
    "    'itzy': {\n",
    "        'waanbe': 'fE2h3lGlOsk',\n",
    "        'icy': 'zndvqTc4P9I',\n",
    "        'dalla_dalla' : 'pNfTK39k55U'\n",
    "    },\n",
    "}"
   ]
  },
  {
   "cell_type": "code",
   "execution_count": null,
   "metadata": {},
   "outputs": [],
   "source": [
    "def get_comment_description(item):\n",
    "    i = item['snippet']['topLevelComment']['snippet']\n",
    "    return i['authorDisplayName'], i['textOriginal'], i['likeCount'], i['publishedAt']\n",
    "\n",
    "def get_comments(params):\n",
    "    res = requests.get('https://www.googleapis.com/youtube/v3/commentThreads', params=params)\n",
    "\n",
    "    if res.status_code == 200:\n",
    "        json_data = res.json()\n",
    "        items = json_data.get(\"items\")\n",
    "        nextPageToken = json_data.get(\"nextPageToken\")\n",
    "\n",
    "        return items, nextPageToken\n",
    "    else:\n",
    "        return None, None"
   ]
  },
  {
   "cell_type": "code",
   "execution_count": null,
   "metadata": {},
   "outputs": [],
   "source": [
    "def crawlling_comments(singer, title, video_id):\n",
    "    file = open(STORE_FILE_PATH + singer + '-' + title + '.csv', mode='w', encoding='utf-8-sig', newline='')\n",
    "    csv_writer = csv.writer(file)\n",
    "    csv_writer.writerow(['author', 'contents', 'likeCount', 'date'])\n",
    "    \n",
    "    params = {\n",
    "        'part' : 'snippet',\n",
    "        'maxResults' : '100',\n",
    "        'videoId' : VIDEO_ID,\n",
    "        'key' : KEY\n",
    "    }\n",
    "\n",
    "    cnt = 0\n",
    "    while True:\n",
    "        items, token = get_comments(params)\n",
    "\n",
    "        cnt += len(items)\n",
    "        print(len(items))\n",
    "\n",
    "        for item in items:\n",
    "            author, content, likeCount, date = get_comment_description(item)\n",
    "            csv_writer.writerow([author, content, likeCount, date])\n",
    "\n",
    "    #         print(author, content, likeCount, date)\n",
    "\n",
    "        if token != None:\n",
    "            params[\"pageToken\"] = token\n",
    "        else:\n",
    "            break\n",
    "    \n",
    "    print(\"all comments: \", cnt)\n",
    "    file.close()"
   ]
  },
  {
   "cell_type": "code",
   "execution_count": null,
   "metadata": {},
   "outputs": [],
   "source": [
    "def start_job(d, origin_key=None):\n",
    "    for k, v in d.items():\n",
    "        if isinstance(v, dict):\n",
    "            start_job(v, k)\n",
    "        else:\n",
    "            print(origin_key, k, v)\n",
    "            crawlling_comments(origin_key, k, v)"
   ]
  },
  {
   "cell_type": "code",
   "execution_count": null,
   "metadata": {},
   "outputs": [],
   "source": [
    "start_job(VIDEO_IDS)"
   ]
  },
  {
   "cell_type": "markdown",
   "metadata": {},
   "source": [
    "## Test"
   ]
  },
  {
   "cell_type": "code",
   "execution_count": null,
   "metadata": {},
   "outputs": [],
   "source": [
    "#yt = YouTubeDataAPI(KEY)\n",
    "#yt.get_video_comments(video_id=VIDEO_ID, max_results =100, part=['snippet'])"
   ]
  }
 ],
 "metadata": {
  "kernelspec": {
   "display_name": "dl",
   "language": "python",
   "name": "dl"
  },
  "language_info": {
   "codemirror_mode": {
    "name": "ipython",
    "version": 3
   },
   "file_extension": ".py",
   "mimetype": "text/x-python",
   "name": "python",
   "nbconvert_exporter": "python",
   "pygments_lexer": "ipython3",
   "version": "3.6.9"
  }
 },
 "nbformat": 4,
 "nbformat_minor": 2
}
